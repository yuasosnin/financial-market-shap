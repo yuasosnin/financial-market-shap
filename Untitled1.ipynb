{
 "cells": [
  {
   "cell_type": "markdown",
   "id": "8b90d5a0-597e-47f8-973d-0e319962fddb",
   "metadata": {},
   "source": [
    "TSAI"
   ]
  },
  {
   "cell_type": "code",
   "execution_count": 16,
   "id": "13f90bfa-fd98-48f9-b403-f87873df5a04",
   "metadata": {},
   "outputs": [
    {
     "name": "stdout",
     "output_type": "stream",
     "text": [
      "os             : Windows-10-10.0.19043-SP0\n",
      "python         : 3.9.6\n",
      "tsai           : 0.2.25\n",
      "fastai         : 2.5.3\n",
      "fastcore       : 1.3.27\n",
      "torch          : 1.9.0+cpu\n",
      "n_cpus         : 8\n",
      "device         : cpu\n"
     ]
    }
   ],
   "source": [
    "from tsai.all import *\n",
    "computer_setup()"
   ]
  },
  {
   "cell_type": "code",
   "execution_count": 17,
   "id": "e7b91aa1-4aa8-4efb-9caa-d9ef8d62f97f",
   "metadata": {},
   "outputs": [
    {
     "name": "stderr",
     "output_type": "stream",
     "text": [
      "119it [00:08, 14.30it/s]\n",
      "66it [00:03, 18.01it/s] \n"
     ]
    },
    {
     "data": {
      "text/plain": [
       "((137, 24, 144),\n",
       " (137,),\n",
       " memmap([19.38, 12.68,  5.34, 12.72, 13.25, 26.28, 13.1 , 14.06, 10.92,\n",
       "         10.46]))"
      ]
     },
     "execution_count": 17,
     "metadata": {},
     "output_type": "execute_result"
    }
   ],
   "source": [
    "dsid = 'AppliancesEnergy' \n",
    "X, y, splits = get_regression_data(dsid, split_data=False)\n",
    "X.shape, y.shape, y[:10]"
   ]
  },
  {
   "cell_type": "code",
   "execution_count": 26,
   "id": "596dde02-9c30-456a-856b-75d523c6a3e4",
   "metadata": {},
   "outputs": [
    {
     "data": {
      "text/plain": [
       "(137, 24, 144)"
      ]
     },
     "execution_count": 26,
     "metadata": {},
     "output_type": "execute_result"
    }
   ],
   "source": [
    "X.shape # batch_size, timestamps, feature_size"
   ]
  },
  {
   "cell_type": "code",
   "execution_count": 44,
   "id": "bc7483ba-c391-4d78-91f4-560f57a93c65",
   "metadata": {},
   "outputs": [],
   "source": [
    "x = torch.tensor(X)"
   ]
  },
  {
   "cell_type": "code",
   "execution_count": 52,
   "id": "0f87adea-04b7-43d0-a74e-4a8cf9a1836b",
   "metadata": {},
   "outputs": [
    {
     "data": {
      "text/plain": [
       "torch.Size([137, 24, 144])"
      ]
     },
     "execution_count": 52,
     "metadata": {},
     "output_type": "execute_result"
    }
   ],
   "source": [
    "x.shape"
   ]
  },
  {
   "cell_type": "code",
   "execution_count": 82,
   "id": "a88fc66e-f43d-4e89-b756-67b1ac19e67f",
   "metadata": {},
   "outputs": [],
   "source": [
    "del model"
   ]
  },
  {
   "cell_type": "code",
   "execution_count": 118,
   "id": "1129bbe6-6199-4d1d-b997-a96fbc71f0b8",
   "metadata": {},
   "outputs": [],
   "source": [
    "model = InceptionModulePlus(ni=24, nf=2).float()"
   ]
  },
  {
   "cell_type": "code",
   "execution_count": 115,
   "id": "98e1bde1-001c-48dc-8075-bc09c18c6333",
   "metadata": {},
   "outputs": [
    {
     "data": {
      "text/plain": [
       "torch.Size([137, 144, 24])"
      ]
     },
     "execution_count": 115,
     "metadata": {},
     "output_type": "execute_result"
    }
   ],
   "source": [
    "x.permute(0,2,1).shape"
   ]
  },
  {
   "cell_type": "code",
   "execution_count": 119,
   "id": "c0a3d70b-0366-4af9-9497-566521a763cf",
   "metadata": {},
   "outputs": [
    {
     "data": {
      "text/plain": [
       "torch.Size([137, 8, 144])"
      ]
     },
     "execution_count": 119,
     "metadata": {},
     "output_type": "execute_result"
    }
   ],
   "source": [
    "model.forward(x.float()).shape"
   ]
  },
  {
   "cell_type": "code",
   "execution_count": null,
   "id": "3a295211-5cd5-471f-881b-144e6ea3fac2",
   "metadata": {},
   "outputs": [],
   "source": []
  }
 ],
 "metadata": {
  "kernelspec": {
   "display_name": "Python 3 (ipykernel)",
   "language": "python",
   "name": "python3"
  },
  "language_info": {
   "codemirror_mode": {
    "name": "ipython",
    "version": 3
   },
   "file_extension": ".py",
   "mimetype": "text/x-python",
   "name": "python",
   "nbconvert_exporter": "python",
   "pygments_lexer": "ipython3",
   "version": "3.9.6"
  }
 },
 "nbformat": 4,
 "nbformat_minor": 5
}
